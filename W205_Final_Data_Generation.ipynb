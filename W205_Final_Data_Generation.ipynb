{
 "cells": [
  {
   "cell_type": "code",
   "execution_count": 2,
   "metadata": {
    "collapsed": true
   },
   "outputs": [],
   "source": [
    "%matplotlib inline\n",
    "from fredapi import Fred\n",
    "fred = Fred(api_key='48602a9ca88b2b0eefabd0904eaeb6be')\n",
    "#data = fred.get_series('SP500')\n",
    "import pandas as pd\n",
    "pd.options.display.max_colwidth = 60\n",
    "import numpy as np\n",
    "import matplotlib.pyplot as plt\n",
    "import urllib3\n",
    "import urllib\n",
    "from IPython.core.pylabtools import figsize\n",
    "figsize(20, 5)\n",
    "from matplotlib.pylab import rcParams\n",
    "rcParams['figure.figsize'] = 15, 6\n",
    "from statsmodels.tsa.stattools import adfuller\n"
   ]
  },
  {
   "cell_type": "code",
   "execution_count": 5,
   "metadata": {
    "collapsed": false
   },
   "outputs": [
    {
     "ename": "NameError",
     "evalue": "name 'ExcelWriter' is not defined",
     "output_type": "error",
     "traceback": [
      "\u001b[1;31m---------------------------------------------------------------------------\u001b[0m",
      "\u001b[1;31mNameError\u001b[0m                                 Traceback (most recent call last)",
      "\u001b[1;32m<ipython-input-5-6b35b669ddd5>\u001b[0m in \u001b[0;36m<module>\u001b[1;34m()\u001b[0m\n\u001b[0;32m      1\u001b[0m \u001b[1;33m\u001b[0m\u001b[0m\n\u001b[1;32m----> 2\u001b[1;33m \u001b[0mwriter\u001b[0m \u001b[1;33m=\u001b[0m \u001b[0mExcelWriter\u001b[0m\u001b[1;33m(\u001b[0m\u001b[1;34m'output.xlsx'\u001b[0m\u001b[1;33m)\u001b[0m\u001b[1;33m\u001b[0m\u001b[0m\n\u001b[0m\u001b[0;32m      3\u001b[0m \u001b[0mdf\u001b[0m \u001b[1;33m=\u001b[0m \u001b[1;33m{\u001b[0m\u001b[1;33m}\u001b[0m\u001b[1;33m\u001b[0m\u001b[0m\n\u001b[0;32m      4\u001b[0m \u001b[0mdf\u001b[0m\u001b[1;33m[\u001b[0m\u001b[1;34m'SF'\u001b[0m\u001b[1;33m]\u001b[0m \u001b[1;33m=\u001b[0m \u001b[0mfred\u001b[0m\u001b[1;33m.\u001b[0m\u001b[0mget_series\u001b[0m\u001b[1;33m(\u001b[0m\u001b[1;34m'PCPI06075'\u001b[0m\u001b[1;33m)\u001b[0m\u001b[1;33m\u001b[0m\u001b[0m\n\u001b[0;32m      5\u001b[0m \u001b[0mdf\u001b[0m\u001b[1;33m.\u001b[0m\u001b[0mto_excel\u001b[0m\u001b[1;33m(\u001b[0m\u001b[0mwriter\u001b[0m\u001b[1;33m,\u001b[0m\u001b[1;34m'Sheet1'\u001b[0m\u001b[1;33m)\u001b[0m\u001b[1;33m\u001b[0m\u001b[0m\n",
      "\u001b[1;31mNameError\u001b[0m: name 'ExcelWriter' is not defined"
     ]
    }
   ],
   "source": [
    "\n",
    "writer = ExcelWriter('output.xlsx')\n",
    "df = {}\n",
    "df['SF'] = fred.get_series('PCPI06075')\n",
    "df.to_excel(writer,'Sheet1')"
   ]
  },
  {
   "cell_type": "code",
   "execution_count": 31,
   "metadata": {
    "collapsed": false
   },
   "outputs": [],
   "source": [
    "import csv\n",
    "#   NY city : 362.001215654, 347.663995198 (ES), NY city : 300.73601832, 231.11451428(ARIMA)\n",
    "#   CA state: 181.001215654, 173.863995198 (ES), CA state : 150.03601832, 116.11451428(ARIMA)\n",
    "# UK country: 178.001215654, 170.663995198 (ES),UK country : 148.73601832, 115.11451428(ARIMA)\n",
    "# SF: 3460, NY: 3000, Boston: 2300, San Jose: 1900, Los Angeles: 1760\n",
    "# San Diego: 1480, Philadelphia: 1350, Houston: 1090, Milwaukee: 1020, Nashville:860\n",
    "# cities: res_ES_MAX = (20000 / (347/100 * 2760))* [1/1.15, 1, 1/0.76, 1/0.63, 1/0.5866, 1/0.499, 1/0.45, 1/0.36, 1/0.34, 1/0.286]\n",
    "# cities: res_ES_MIN = (20000 / (362/100 * 2760))* [1/1.15, 1, 1/0.76, 1/0.63, 1/0.5866, 1/0.499, 1/0.45, 1/0.36, 1/0.34, 1/0.286]\n",
    "# cities: res_ARIMA_MAX = (20000 / (230.7/100 * 2760))* [1/1.15, 1, 1/0.76, 1/0.63, 1/0.5866, 1/0.499, 1/0.45, 1/0.36, 1/0.34, 1/0.286]\n",
    "# cities: res_ARIMA_MIN = (20000 / (300.2/100 * 2760))* [1/1.15, 1, 1/0.76, 1/0.63, 1/0.5866, 1/0.499, 1/0.45, 1/0.36, 1/0.34, 1/0.286]\n",
    "# scale_cities = [float(1/1.15), 1, float(1/0.76), float(1/0.63), float(1/0.5866), float(1/0.499), \n",
    "#         float(1/0.45), float(1/0.36), float(1/0.34), float(1/0.286)]\n",
    "\n",
    "# countries: res_ES_MAX = (20000 / (236/100 * 147))* [1/1.15, 1, 1/0.76, 1/0.63, 1/0.5866, 1/0.499, 1/0.45, 1/0.36, 1/0.34, 1/0.286]\n",
    "# countries: res_ES_MIN = (20000 / (245/100 * 147))* [1/1.15, 1, 1/0.76, 1/0.63, 1/0.5866, 1/0.499, 1/0.45, 1/0.36, 1/0.34, 1/0.286]\n",
    "# countries: res_ARIMA_MAX = (20000 / (230.7/100 * 147))* [1/1.15, 1, 1/0.76, 1/0.63, 1/0.5866, 1/0.499, 1/0.45, 1/0.36, 1/0.34, 1/0.286]\n",
    "# countries: res_ARIMA_MIN = (20000 / (250.2/100 * 147))* [1/1.15, 1, 1/0.76, 1/0.63, 1/0.5866, 1/0.499, 1/0.45, 1/0.36, 1/0.34, 1/0.286]\n",
    "# scale_countries = [1/8.5, 1/8.3, 1/7.9, 1/7.5, 1/7.3, 1/6.5, 1/5.5, 1/4.3, 1/2.8, 1]\n",
    "\n",
    "# states: res_ES_MAX = (20000 / (195/100 * 1268))* [1/1.15, 1, 1/0.76, 1/0.63, 1/0.5866, 1/0.499, 1/0.45, 1/0.36, 1/0.34, 1/0.286]\n",
    "# states: res_ES_MIN = (20000 / (201/100 * 1268))* [1/1.15, 1, 1/0.76, 1/0.63, 1/0.5866, 1/0.499, 1/0.45, 1/0.36, 1/0.34, 1/0.286]\n",
    "# states: res_ARIMA_MAX = (20000 / (180.7/100 * 1268))* [1/1.15, 1, 1/0.76, 1/0.63, 1/0.5866, 1/0.499, 1/0.45, 1/0.36, 1/0.34, 1/0.286]\n",
    "# states: res_ARIMA_MIN = (20000 / (220.2/100 * 1268))* [1/1.15, 1, 1/0.76, 1/0.63, 1/0.5866, 1/0.499, 1/0.45, 1/0.36, 1/0.34, 1/0.286]\n",
    "# scale_states \n",
    "\n",
    "scale = [1.892, 1.891, 1.827, 1.809, 1.8,  1.78,  1.77, 1.74, 1.73, 1.715,\n",
    "         1.692, 1.691, 1.628, 1.608, 1.6,  1.59,  1.58, 1.57, 1.55, 1.54,\n",
    "         1.53,  1.493, 1.431, 1.407, 1.4,  1.38,  1.37, 1.353, 1.352, 1.34,\n",
    "         1.33,  1.293, 1.231, 1.207, 1.2,  1.19,  1.18, 1.154, 1.151, 1.14,\n",
    "         1.1,   1.093,  1.091, 1.09, 1.08, 1.07,  1.06, 1.05, 1.042, 1.04,\n",
    "         1]\n",
    "\n",
    "res = [(1/x) * (20000 / (220.2/100 * 1268)) for x in scale]\n",
    "csvfile = \"C:\\\\Users\\\\syc\\\\Desktop\\\\Data Science App\\\\Data Retrival\\\\Final Project\\\\Generated Data\\\\test.csv\"\n",
    "# C:\\\\Users\\\\syc\\\\Downloads\\\\test.xls\n",
    "\n",
    "#Assuming res is a flat list\n",
    "with open(csvfile, \"w\") as output:\n",
    "    writer = csv.writer(output, lineterminator='\\n')\n",
    "    for val in res:\n",
    "        writer.writerow([val]) \n",
    "\n"
   ]
  },
  {
   "cell_type": "code",
   "execution_count": 25,
   "metadata": {
    "collapsed": false
   },
   "outputs": [
    {
     "name": "stdout",
     "output_type": "stream",
     "text": [
      "1.0423359245916737\n"
     ]
    }
   ],
   "source": [
    "a = 38482/36919\n",
    "print(a)"
   ]
  }
 ],
 "metadata": {
  "kernelspec": {
   "display_name": "Python 3",
   "language": "python",
   "name": "python3"
  },
  "language_info": {
   "codemirror_mode": {
    "name": "ipython",
    "version": 3
   },
   "file_extension": ".py",
   "mimetype": "text/x-python",
   "name": "python",
   "nbconvert_exporter": "python",
   "pygments_lexer": "ipython3",
   "version": "3.5.1"
  }
 },
 "nbformat": 4,
 "nbformat_minor": 0
}
