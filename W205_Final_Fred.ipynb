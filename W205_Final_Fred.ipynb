{
 "cells": [
  {
   "cell_type": "code",
   "execution_count": 82,
   "metadata": {
    "collapsed": false,
    "scrolled": true
   },
   "outputs": [],
   "source": [
    "from fredapi import Fred\n",
    "fred = Fred(api_key='48602a9ca88b2b0eefabd0904eaeb6be')\n",
    "data = fred.get_series('SP500')\n",
    "import pandas as pd\n",
    "pd.options.display.max_colwidth = 60\n",
    "import numpy as np\n",
    "import matplotlib.pyplot as plt\n",
    "import urllib3\n",
    "import urllib"
   ]
  },
  {
   "cell_type": "code",
   "execution_count": 20,
   "metadata": {
    "collapsed": false
   },
   "outputs": [
    {
     "data": {
      "text/plain": [
       "frequency                                                                        Monthly\n",
       "frequency_short                                                                        M\n",
       "id                                                                              PCEPILFE\n",
       "last_updated                                                      2016-06-29 07:51:07-05\n",
       "notes                        BEA Account Code: DPCCRG3  A Guide to the National Incom...\n",
       "observation_end                                                               2016-05-01\n",
       "observation_start                                                             1959-01-01\n",
       "popularity                                                                            69\n",
       "realtime_end                                                                  2016-07-03\n",
       "realtime_start                                                                2016-07-03\n",
       "seasonal_adjustment                                                  Seasonally Adjusted\n",
       "seasonal_adjustment_short                                                             SA\n",
       "title                        Personal Consumption Expenditures Excluding Food and Ene...\n",
       "units                                                                     Index 2009=100\n",
       "units_short                                                               Index 2009=100\n",
       "dtype: object"
      ]
     },
     "execution_count": 20,
     "metadata": {},
     "output_type": "execute_result"
    }
   ],
   "source": [
    "fred.get_series_info('PCEPILFE')"
   ]
  },
  {
   "cell_type": "code",
   "execution_count": 21,
   "metadata": {
    "collapsed": false
   },
   "outputs": [
    {
     "data": {
      "text/plain": [
       "frequency                                                                      Quarterly\n",
       "frequency_short                                                                        Q\n",
       "id                                                                                   GDP\n",
       "last_updated                                                      2016-06-28 08:01:15-05\n",
       "notes                        BEA Account Code: A191RC1  Gross domestic product (GDP),...\n",
       "observation_end                                                               2016-01-01\n",
       "observation_start                                                             1947-01-01\n",
       "popularity                                                                            89\n",
       "realtime_end                                                                  2016-07-03\n",
       "realtime_start                                                                2016-07-03\n",
       "seasonal_adjustment                                      Seasonally Adjusted Annual Rate\n",
       "seasonal_adjustment_short                                                           SAAR\n",
       "title                                                             Gross Domestic Product\n",
       "units                                                                Billions of Dollars\n",
       "units_short                                                                    Bil. of $\n",
       "dtype: object"
      ]
     },
     "execution_count": 21,
     "metadata": {},
     "output_type": "execute_result"
    }
   ],
   "source": [
    "fred.get_series_info('GDP')"
   ]
  },
  {
   "cell_type": "code",
   "execution_count": 26,
   "metadata": {
    "collapsed": false
   },
   "outputs": [
    {
     "data": {
      "text/plain": [
       "2015-01-01    17649.3\n",
       "2015-04-01    17913.7\n",
       "2015-07-01    18060.2\n",
       "2015-10-01    18164.8\n",
       "2016-01-01    18230.1\n",
       "dtype: float64"
      ]
     },
     "execution_count": 26,
     "metadata": {},
     "output_type": "execute_result"
    }
   ],
   "source": [
    "# GDP\n",
    "data = fred.get_series('GDP', '6/1/2014')\n",
    "data.tail()"
   ]
  },
  {
   "cell_type": "code",
   "execution_count": 27,
   "metadata": {
    "collapsed": false
   },
   "outputs": [
    {
     "data": {
      "text/plain": [
       "series id\n",
       "PCPI37063           Per Capita Personal Income in Durham County, NC\n",
       "PCPI32003            Per Capita Personal Income in Clark County, NV\n",
       "PCPI24031       Per Capita Personal Income in Montgomery County, MD\n",
       "PCPI11001    Per Capita Personal Income in the District of Columbia\n",
       "PI30007                    Personal Income in Broadwater County, MT\n",
       "Name: title, dtype: object"
      ]
     },
     "execution_count": 27,
     "metadata": {},
     "output_type": "execute_result"
    }
   ],
   "source": [
    "personal_income_series = fred.search_by_release(175, limit=5, order_by='popularity', sort_order='desc')\n",
    "\n",
    "personal_income_series['title']\n",
    "\n"
   ]
  },
  {
   "cell_type": "code",
   "execution_count": 32,
   "metadata": {
    "collapsed": false
   },
   "outputs": [
    {
     "data": {
      "text/html": [
       "<div>\n",
       "<table border=\"1\" class=\"dataframe\">\n",
       "  <thead>\n",
       "    <tr style=\"text-align: right;\">\n",
       "      <th></th>\n",
       "      <th>frequency</th>\n",
       "      <th>frequency_short</th>\n",
       "      <th>id</th>\n",
       "      <th>last_updated</th>\n",
       "      <th>notes</th>\n",
       "      <th>observation_end</th>\n",
       "      <th>observation_start</th>\n",
       "      <th>popularity</th>\n",
       "      <th>realtime_end</th>\n",
       "      <th>realtime_start</th>\n",
       "      <th>seasonal_adjustment</th>\n",
       "      <th>seasonal_adjustment_short</th>\n",
       "      <th>title</th>\n",
       "      <th>units</th>\n",
       "      <th>units_short</th>\n",
       "    </tr>\n",
       "    <tr>\n",
       "      <th>series id</th>\n",
       "      <th></th>\n",
       "      <th></th>\n",
       "      <th></th>\n",
       "      <th></th>\n",
       "      <th></th>\n",
       "      <th></th>\n",
       "      <th></th>\n",
       "      <th></th>\n",
       "      <th></th>\n",
       "      <th></th>\n",
       "      <th></th>\n",
       "      <th></th>\n",
       "      <th></th>\n",
       "      <th></th>\n",
       "      <th></th>\n",
       "    </tr>\n",
       "  </thead>\n",
       "  <tbody>\n",
       "    <tr>\n",
       "      <th>TWEXB</th>\n",
       "      <td>Weekly, Ending Wednesday</td>\n",
       "      <td>W</td>\n",
       "      <td>TWEXB</td>\n",
       "      <td>2016-06-27 20:41:53</td>\n",
       "      <td>Averages of daily figures. A weighted average of the for...</td>\n",
       "      <td>2016-06-22</td>\n",
       "      <td>1995-01-04</td>\n",
       "      <td>82</td>\n",
       "      <td>2016-07-03</td>\n",
       "      <td>2016-07-03</td>\n",
       "      <td>Not Seasonally Adjusted</td>\n",
       "      <td>NSA</td>\n",
       "      <td>Trade Weighted U.S. Dollar Index: Broad</td>\n",
       "      <td>Index Jan 1997=100</td>\n",
       "      <td>Index Jan 1997=100</td>\n",
       "    </tr>\n",
       "    <tr>\n",
       "      <th>DTWEXM</th>\n",
       "      <td>Daily</td>\n",
       "      <td>D</td>\n",
       "      <td>DTWEXM</td>\n",
       "      <td>2016-06-27 20:41:52</td>\n",
       "      <td>A weighted average of the foreign exchange value of the ...</td>\n",
       "      <td>2016-06-24</td>\n",
       "      <td>1973-01-02</td>\n",
       "      <td>78</td>\n",
       "      <td>2016-07-03</td>\n",
       "      <td>2016-07-03</td>\n",
       "      <td>Not Seasonally Adjusted</td>\n",
       "      <td>NSA</td>\n",
       "      <td>Trade Weighted U.S. Dollar Index: Major Currencies</td>\n",
       "      <td>Index Mar 1973=100</td>\n",
       "      <td>Index Mar 1973=100</td>\n",
       "    </tr>\n",
       "    <tr>\n",
       "      <th>EXJPUS</th>\n",
       "      <td>Monthly</td>\n",
       "      <td>M</td>\n",
       "      <td>EXJPUS</td>\n",
       "      <td>2016-06-27 20:41:55</td>\n",
       "      <td>Averages of daily figures. Noon buying rates in New York...</td>\n",
       "      <td>2016-06-01</td>\n",
       "      <td>1971-01-01</td>\n",
       "      <td>69</td>\n",
       "      <td>2016-07-03</td>\n",
       "      <td>2016-07-03</td>\n",
       "      <td>Not Seasonally Adjusted</td>\n",
       "      <td>NSA</td>\n",
       "      <td>Japan / U.S. Foreign Exchange Rate</td>\n",
       "      <td>Japanese Yen to One U.S. Dollar</td>\n",
       "      <td>Japanese Yen to  1 U.S. $</td>\n",
       "    </tr>\n",
       "    <tr>\n",
       "      <th>DTWEXB</th>\n",
       "      <td>Daily</td>\n",
       "      <td>D</td>\n",
       "      <td>DTWEXB</td>\n",
       "      <td>2016-06-27 20:41:50</td>\n",
       "      <td>A weighted average of the foreign exchange value of the ...</td>\n",
       "      <td>2016-06-24</td>\n",
       "      <td>1995-01-04</td>\n",
       "      <td>67</td>\n",
       "      <td>2016-07-03</td>\n",
       "      <td>2016-07-03</td>\n",
       "      <td>Not Seasonally Adjusted</td>\n",
       "      <td>NSA</td>\n",
       "      <td>Trade Weighted U.S. Dollar Index: Broad</td>\n",
       "      <td>Index Jan 1997=100</td>\n",
       "      <td>Index Jan 1997=100</td>\n",
       "    </tr>\n",
       "    <tr>\n",
       "      <th>DEXJPUS</th>\n",
       "      <td>Daily</td>\n",
       "      <td>D</td>\n",
       "      <td>DEXJPUS</td>\n",
       "      <td>2016-06-27 20:41:25</td>\n",
       "      <td>Noon buying rates in New York City for cable transfers p...</td>\n",
       "      <td>2016-06-24</td>\n",
       "      <td>1971-01-04</td>\n",
       "      <td>66</td>\n",
       "      <td>2016-07-03</td>\n",
       "      <td>2016-07-03</td>\n",
       "      <td>Not Seasonally Adjusted</td>\n",
       "      <td>NSA</td>\n",
       "      <td>Japan / U.S. Foreign Exchange Rate</td>\n",
       "      <td>Japanese Yen to One U.S. Dollar</td>\n",
       "      <td>Japanese Yen to  1 U.S. $</td>\n",
       "    </tr>\n",
       "    <tr>\n",
       "      <th>TWEXMMTH</th>\n",
       "      <td>Monthly</td>\n",
       "      <td>M</td>\n",
       "      <td>TWEXMMTH</td>\n",
       "      <td>2016-06-27 20:41:59</td>\n",
       "      <td>Averages of daily figures. A weighted average of the for...</td>\n",
       "      <td>2016-06-01</td>\n",
       "      <td>1973-01-01</td>\n",
       "      <td>65</td>\n",
       "      <td>2016-07-03</td>\n",
       "      <td>2016-07-03</td>\n",
       "      <td>Not Seasonally Adjusted</td>\n",
       "      <td>NSA</td>\n",
       "      <td>Trade Weighted U.S. Dollar Index: Major Currencies</td>\n",
       "      <td>Index Mar 1973=100</td>\n",
       "      <td>Index Mar 1973=100</td>\n",
       "    </tr>\n",
       "    <tr>\n",
       "      <th>TWEXBPA</th>\n",
       "      <td>Monthly</td>\n",
       "      <td>M</td>\n",
       "      <td>TWEXBPA</td>\n",
       "      <td>2016-07-01 18:36:02</td>\n",
       "      <td>Averages of daily figures. Series is price adjusted. A w...</td>\n",
       "      <td>2016-06-01</td>\n",
       "      <td>1973-01-01</td>\n",
       "      <td>64</td>\n",
       "      <td>2016-07-03</td>\n",
       "      <td>2016-07-03</td>\n",
       "      <td>Not Seasonally Adjusted</td>\n",
       "      <td>NSA</td>\n",
       "      <td>Real Trade Weighted U.S. Dollar Index: Broad</td>\n",
       "      <td>Index Mar 1973=100</td>\n",
       "      <td>Index Mar 1973=100</td>\n",
       "    </tr>\n",
       "    <tr>\n",
       "      <th>JPNNGDP</th>\n",
       "      <td>Quarterly</td>\n",
       "      <td>Q</td>\n",
       "      <td>JPNNGDP</td>\n",
       "      <td>2016-03-08 15:31:02</td>\n",
       "      <td>Copyright, 2016, Bank of Japan.</td>\n",
       "      <td>2015-10-01</td>\n",
       "      <td>1994-01-01</td>\n",
       "      <td>58</td>\n",
       "      <td>2016-07-03</td>\n",
       "      <td>2016-07-03</td>\n",
       "      <td>Seasonally Adjusted</td>\n",
       "      <td>SA</td>\n",
       "      <td>Gross Domestic Product for Japan©</td>\n",
       "      <td>Billions of Yen</td>\n",
       "      <td>Bil. of Yen</td>\n",
       "    </tr>\n",
       "    <tr>\n",
       "      <th>TWEXBMTH</th>\n",
       "      <td>Monthly</td>\n",
       "      <td>M</td>\n",
       "      <td>TWEXBMTH</td>\n",
       "      <td>2016-06-27 20:41:59</td>\n",
       "      <td>Averages of daily figures. A weighted average of the for...</td>\n",
       "      <td>2016-06-01</td>\n",
       "      <td>1973-01-01</td>\n",
       "      <td>58</td>\n",
       "      <td>2016-07-03</td>\n",
       "      <td>2016-07-03</td>\n",
       "      <td>Not Seasonally Adjusted</td>\n",
       "      <td>NSA</td>\n",
       "      <td>Trade Weighted U.S. Dollar Index: Broad</td>\n",
       "      <td>Index Jan 1997=100</td>\n",
       "      <td>Index Jan 1997=100</td>\n",
       "    </tr>\n",
       "    <tr>\n",
       "      <th>NIKKEI225</th>\n",
       "      <td>Daily, Close</td>\n",
       "      <td>D</td>\n",
       "      <td>NIKKEI225</td>\n",
       "      <td>2016-07-01 12:11:41</td>\n",
       "      <td>Nikkei 225 is the major stock market index comprising of...</td>\n",
       "      <td>2016-07-01</td>\n",
       "      <td>1949-05-16</td>\n",
       "      <td>56</td>\n",
       "      <td>2016-07-03</td>\n",
       "      <td>2016-07-03</td>\n",
       "      <td>Not Seasonally Adjusted</td>\n",
       "      <td>NSA</td>\n",
       "      <td>Nikkei Stock Average, Nikkei 225©</td>\n",
       "      <td>Index</td>\n",
       "      <td>Index</td>\n",
       "    </tr>\n",
       "  </tbody>\n",
       "</table>\n",
       "</div>"
      ],
      "text/plain": [
       "                          frequency frequency_short         id  \\\n",
       "series id                                                        \n",
       "TWEXB      Weekly, Ending Wednesday               W      TWEXB   \n",
       "DTWEXM                        Daily               D     DTWEXM   \n",
       "EXJPUS                      Monthly               M     EXJPUS   \n",
       "DTWEXB                        Daily               D     DTWEXB   \n",
       "DEXJPUS                       Daily               D    DEXJPUS   \n",
       "TWEXMMTH                    Monthly               M   TWEXMMTH   \n",
       "TWEXBPA                     Monthly               M    TWEXBPA   \n",
       "JPNNGDP                   Quarterly               Q    JPNNGDP   \n",
       "TWEXBMTH                    Monthly               M   TWEXBMTH   \n",
       "NIKKEI225              Daily, Close               D  NIKKEI225   \n",
       "\n",
       "                 last_updated  \\\n",
       "series id                       \n",
       "TWEXB     2016-06-27 20:41:53   \n",
       "DTWEXM    2016-06-27 20:41:52   \n",
       "EXJPUS    2016-06-27 20:41:55   \n",
       "DTWEXB    2016-06-27 20:41:50   \n",
       "DEXJPUS   2016-06-27 20:41:25   \n",
       "TWEXMMTH  2016-06-27 20:41:59   \n",
       "TWEXBPA   2016-07-01 18:36:02   \n",
       "JPNNGDP   2016-03-08 15:31:02   \n",
       "TWEXBMTH  2016-06-27 20:41:59   \n",
       "NIKKEI225 2016-07-01 12:11:41   \n",
       "\n",
       "                                                                 notes  \\\n",
       "series id                                                                \n",
       "TWEXB      Averages of daily figures. A weighted average of the for...   \n",
       "DTWEXM     A weighted average of the foreign exchange value of the ...   \n",
       "EXJPUS     Averages of daily figures. Noon buying rates in New York...   \n",
       "DTWEXB     A weighted average of the foreign exchange value of the ...   \n",
       "DEXJPUS    Noon buying rates in New York City for cable transfers p...   \n",
       "TWEXMMTH   Averages of daily figures. A weighted average of the for...   \n",
       "TWEXBPA    Averages of daily figures. Series is price adjusted. A w...   \n",
       "JPNNGDP                                Copyright, 2016, Bank of Japan.   \n",
       "TWEXBMTH   Averages of daily figures. A weighted average of the for...   \n",
       "NIKKEI225  Nikkei 225 is the major stock market index comprising of...   \n",
       "\n",
       "          observation_end observation_start popularity realtime_end  \\\n",
       "series id                                                             \n",
       "TWEXB          2016-06-22        1995-01-04         82   2016-07-03   \n",
       "DTWEXM         2016-06-24        1973-01-02         78   2016-07-03   \n",
       "EXJPUS         2016-06-01        1971-01-01         69   2016-07-03   \n",
       "DTWEXB         2016-06-24        1995-01-04         67   2016-07-03   \n",
       "DEXJPUS        2016-06-24        1971-01-04         66   2016-07-03   \n",
       "TWEXMMTH       2016-06-01        1973-01-01         65   2016-07-03   \n",
       "TWEXBPA        2016-06-01        1973-01-01         64   2016-07-03   \n",
       "JPNNGDP        2015-10-01        1994-01-01         58   2016-07-03   \n",
       "TWEXBMTH       2016-06-01        1973-01-01         58   2016-07-03   \n",
       "NIKKEI225      2016-07-01        1949-05-16         56   2016-07-03   \n",
       "\n",
       "          realtime_start      seasonal_adjustment seasonal_adjustment_short  \\\n",
       "series id                                                                     \n",
       "TWEXB         2016-07-03  Not Seasonally Adjusted                       NSA   \n",
       "DTWEXM        2016-07-03  Not Seasonally Adjusted                       NSA   \n",
       "EXJPUS        2016-07-03  Not Seasonally Adjusted                       NSA   \n",
       "DTWEXB        2016-07-03  Not Seasonally Adjusted                       NSA   \n",
       "DEXJPUS       2016-07-03  Not Seasonally Adjusted                       NSA   \n",
       "TWEXMMTH      2016-07-03  Not Seasonally Adjusted                       NSA   \n",
       "TWEXBPA       2016-07-03  Not Seasonally Adjusted                       NSA   \n",
       "JPNNGDP       2016-07-03      Seasonally Adjusted                        SA   \n",
       "TWEXBMTH      2016-07-03  Not Seasonally Adjusted                       NSA   \n",
       "NIKKEI225     2016-07-03  Not Seasonally Adjusted                       NSA   \n",
       "\n",
       "                                                        title  \\\n",
       "series id                                                       \n",
       "TWEXB                 Trade Weighted U.S. Dollar Index: Broad   \n",
       "DTWEXM     Trade Weighted U.S. Dollar Index: Major Currencies   \n",
       "EXJPUS                     Japan / U.S. Foreign Exchange Rate   \n",
       "DTWEXB                Trade Weighted U.S. Dollar Index: Broad   \n",
       "DEXJPUS                    Japan / U.S. Foreign Exchange Rate   \n",
       "TWEXMMTH   Trade Weighted U.S. Dollar Index: Major Currencies   \n",
       "TWEXBPA          Real Trade Weighted U.S. Dollar Index: Broad   \n",
       "JPNNGDP                     Gross Domestic Product for Japan©   \n",
       "TWEXBMTH              Trade Weighted U.S. Dollar Index: Broad   \n",
       "NIKKEI225                   Nikkei Stock Average, Nikkei 225©   \n",
       "\n",
       "                                     units                units_short  \n",
       "series id                                                              \n",
       "TWEXB                   Index Jan 1997=100         Index Jan 1997=100  \n",
       "DTWEXM                  Index Mar 1973=100         Index Mar 1973=100  \n",
       "EXJPUS     Japanese Yen to One U.S. Dollar  Japanese Yen to  1 U.S. $  \n",
       "DTWEXB                  Index Jan 1997=100         Index Jan 1997=100  \n",
       "DEXJPUS    Japanese Yen to One U.S. Dollar  Japanese Yen to  1 U.S. $  \n",
       "TWEXMMTH                Index Mar 1973=100         Index Mar 1973=100  \n",
       "TWEXBPA                 Index Mar 1973=100         Index Mar 1973=100  \n",
       "JPNNGDP                    Billions of Yen                Bil. of Yen  \n",
       "TWEXBMTH                Index Jan 1997=100         Index Jan 1997=100  \n",
       "NIKKEI225                            Index                      Index  "
      ]
     },
     "execution_count": 32,
     "metadata": {},
     "output_type": "execute_result"
    }
   ],
   "source": [
    "fred.search('japan', order_by='popularity', limit=10)"
   ]
  },
  {
   "cell_type": "code",
   "execution_count": 63,
   "metadata": {
    "collapsed": false
   },
   "outputs": [
    {
     "name": "stdout",
     "output_type": "stream",
     "text": [
      "b'<!DOCTYPE html>\\n<html lang=\"en\">\\n<head>\\n<meta http-equiv=\"X-UA-Compatible\" content=\"IE=edge\">\\n<meta '\n"
     ]
    }
   ],
   "source": [
    "import urllib.request\n",
    "f = urllib.request.urlopen('https://fred.stlouisfed.org/series/NIKKEI225/NIKKEI225.csv')\n",
    "print(f.read(100))"
   ]
  },
  {
   "cell_type": "code",
   "execution_count": 81,
   "metadata": {
    "collapsed": false
   },
   "outputs": [
    {
     "data": {
      "text/plain": [
       "'C:\\\\Users\\\\syc\\\\Downloads\\\\test.xls'"
      ]
     },
     "execution_count": 81,
     "metadata": {},
     "output_type": "execute_result"
    }
   ],
   "source": [
    "import requests\n",
    "\n",
    "\n",
    "def download_file(url, output_file, compressed=True):\n",
    "    \"\"\"\n",
    "    compressed: enable response compression support\n",
    "    \"\"\"\n",
    "    # NOTE the stream=True parameter. It enable a more optimized and buffer support for data loading.\n",
    "    headers = {}\n",
    "    if compressed:\n",
    "        headers[\"Accept-Encoding\"] = \"gzip\"\n",
    "\n",
    "    r = requests.get(url, headers=headers, stream=True)\n",
    "\n",
    "    with open(output_file, 'wb') as f: #open as block write.\n",
    "        for chunk in r.iter_content(chunk_size=1024*1024): \n",
    "            if chunk: # filter out keep-alive new chunks\n",
    "                f.write(chunk)\n",
    "        f.flush() #Afterall, force data flush into output file (optional)\n",
    "\n",
    "    return output_file\n",
    "\n",
    "remote_csv = \"https://fred.stlouisfed.org/series/NIKKEI225/DDOI11AGA156NWDB.xls\"\n",
    "local_output_file = \"C:\\\\Users\\\\syc\\\\Downloads\\\\test.xls\"\n",
    "\n",
    "download_file(remote_csv, local_output_file)\n",
    "\n",
    "#Check file content, just for test purposes:\n",
    "#print(open(local_output_file).read())"
   ]
  },
  {
   "cell_type": "code",
   "execution_count": 52,
   "metadata": {
    "collapsed": false
   },
   "outputs": [
    {
     "ename": "AttributeError",
     "evalue": "module 'urllib3' has no attribute 'URLopener'",
     "output_type": "error",
     "traceback": [
      "\u001b[1;31m---------------------------------------------------------------------------\u001b[0m",
      "\u001b[1;31mAttributeError\u001b[0m                            Traceback (most recent call last)",
      "\u001b[1;32m<ipython-input-52-7d7e7998cf2b>\u001b[0m in \u001b[0;36m<module>\u001b[1;34m()\u001b[0m\n\u001b[1;32m----> 1\u001b[1;33m \u001b[0mtestfile\u001b[0m \u001b[1;33m=\u001b[0m \u001b[0murllib3\u001b[0m\u001b[1;33m.\u001b[0m\u001b[0mURLopener\u001b[0m\u001b[1;33m(\u001b[0m\u001b[1;33m)\u001b[0m\u001b[1;33m\u001b[0m\u001b[0m\n\u001b[0m\u001b[0;32m      2\u001b[0m \u001b[0mtestfile\u001b[0m\u001b[1;33m.\u001b[0m\u001b[0mretrieve\u001b[0m\u001b[1;33m(\u001b[0m\u001b[1;34m\"https://fred.stlouisfed.org/series/NIKKEI225\"\u001b[0m\u001b[1;33m,\u001b[0m \u001b[1;34m\"NIKKEI225.csv\"\u001b[0m\u001b[1;33m)\u001b[0m\u001b[1;33m\u001b[0m\u001b[0m\n\u001b[0;32m      3\u001b[0m \u001b[0murl\u001b[0m \u001b[1;33m=\u001b[0m \u001b[1;34m\"https://fred.stlouisfed.org/series/NIKKEI225\"\u001b[0m\u001b[1;33m\u001b[0m\u001b[0m\n\u001b[0;32m      4\u001b[0m \u001b[0mconnection_pool\u001b[0m \u001b[1;33m=\u001b[0m \u001b[0murllib3\u001b[0m\u001b[1;33m.\u001b[0m\u001b[0mpoolmanager\u001b[0m\u001b[1;33m(\u001b[0m\u001b[1;33m)\u001b[0m\u001b[1;33m\u001b[0m\u001b[0m\n\u001b[0;32m      5\u001b[0m \u001b[0mresp\u001b[0m \u001b[1;33m=\u001b[0m \u001b[0mconnection_pool\u001b[0m\u001b[1;33m.\u001b[0m\u001b[0mrequest\u001b[0m\u001b[1;33m(\u001b[0m\u001b[1;34m'GET'\u001b[0m\u001b[1;33m,\u001b[0m\u001b[0murl\u001b[0m \u001b[1;33m)\u001b[0m\u001b[1;33m\u001b[0m\u001b[0m\n",
      "\u001b[1;31mAttributeError\u001b[0m: module 'urllib3' has no attribute 'URLopener'"
     ]
    }
   ],
   "source": [
    "testfile = urllib3.URLopener()\n",
    "testfile.retrieve(\"https://fred.stlouisfed.org/series/NIKKEI225\", \"NIKKEI225.csv\")\n",
    "url = \"https://fred.stlouisfed.org/series/NIKKEI225\"\n",
    "connection_pool = urllib3.poolmanager()\n",
    "resp = connection_pool.request('GET',url )\n",
    "f = open(NIKKEI225.csv, 'wb')\n",
    "f.write(resp.data)\n",
    "f.close()\n",
    "resp.release_conn()"
   ]
  },
  {
   "cell_type": "code",
   "execution_count": 56,
   "metadata": {
    "collapsed": false
   },
   "outputs": [
    {
     "ename": "SyntaxError",
     "evalue": "(unicode error) 'unicodeescape' codec can't decode bytes in position 2-3: truncated \\UXXXXXXXX escape (<ipython-input-56-4fd776bad142>, line 3)",
     "output_type": "error",
     "traceback": [
      "\u001b[1;36m  File \u001b[1;32m\"<ipython-input-56-4fd776bad142>\"\u001b[1;36m, line \u001b[1;32m3\u001b[0m\n\u001b[1;33m    with http.request('GET', 'https://fred.stlouisfed.org/series/NIKKEI225/NIKKEI225.csv', preload_content=False) as r, open('C:\\Users\\syc\\Downloads', 'wb') as outFile:\u001b[0m\n\u001b[1;37m                                                                                                                            ^\u001b[0m\n\u001b[1;31mSyntaxError\u001b[0m\u001b[1;31m:\u001b[0m (unicode error) 'unicodeescape' codec can't decode bytes in position 2-3: truncated \\UXXXXXXXX escape\n"
     ]
    }
   ],
   "source": [
    "http = urllib3.PoolManager()\n",
    "\n",
    "with http.request('GET', https://fred.stlouisfed.org/series/NIKKEI225/NIKKEI225.csv, preload_content=False) as r, open('C:\\Users\\syc\\Downloads', 'wb') as outFile:       \n",
    "    shutil.copyfileobj(r, outFile)"
   ]
  }
 ],
 "metadata": {
  "kernelspec": {
   "display_name": "Python 3",
   "language": "python",
   "name": "python3"
  },
  "language_info": {
   "codemirror_mode": {
    "name": "ipython",
    "version": 3
   },
   "file_extension": ".py",
   "mimetype": "text/x-python",
   "name": "python",
   "nbconvert_exporter": "python",
   "pygments_lexer": "ipython3",
   "version": "3.5.1"
  }
 },
 "nbformat": 4,
 "nbformat_minor": 0
}
